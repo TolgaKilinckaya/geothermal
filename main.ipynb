{
 "cells": [
  {
   "cell_type": "code",
   "execution_count": 1,
   "id": "a0b7f2bc-55e1-45b2-90c9-329870a27a43",
   "metadata": {},
   "outputs": [
    {
     "name": "stderr",
     "output_type": "stream",
     "text": [
      "C:\\Users\\tolgakilinckaya\\AppData\\Local\\Temp\\ipykernel_16220\\3364035857.py:2: DeprecationWarning: \n",
      "Pyarrow will become a required dependency of pandas in the next major release of pandas (pandas 3.0),\n",
      "(to allow more performant data types, such as the Arrow string type, and better interoperability with other libraries)\n",
      "but was not found to be installed on your system.\n",
      "If this would cause problems for you,\n",
      "please provide us feedback at https://github.com/pandas-dev/pandas/issues/54466\n",
      "        \n",
      "  import pandas as pd\n"
     ]
    }
   ],
   "source": [
    "# Gerekli kütüphaneler\n",
    "import pandas as pd\n",
    "import numpy as np\n",
    "import matplotlib.pyplot as plt\n",
    "import seaborn as sns\n",
    "import geopandas as gpd\n",
    "from shapely.geometry import Point\n",
    "\n",
    "# Haritalar ve jeotermal veri görselleştirme için\n",
    "import folium\n"
   ]
  },
  {
   "cell_type": "code",
   "execution_count": 2,
   "id": "f65bc195-2804-4e4c-8715-14c294388c19",
   "metadata": {},
   "outputs": [],
   "source": [
    "# Deprem verilerini yükleyin\n",
    "deprem_veri = pd.read_csv('turkey_earthquakes(1915-2024_feb).csv')\n",
    "\n",
    "# Jeotermal kaynak verilerini yükleyin (örneğin bir CSV dosyası)\n",
    "jeotermal_veri = pd.read_csv('temperature_data.csv')\n"
   ]
  },
  {
   "cell_type": "code",
   "execution_count": 3,
   "id": "0ea01406-0a46-48eb-b0a7-dcb1f9f3455c",
   "metadata": {},
   "outputs": [
    {
     "name": "stdout",
     "output_type": "stream",
     "text": [
      "   No     Deprem Kodu Olus tarihi  Olus zamani    Enlem   Boylam  Derinlik  \\\n",
      "0   1  20231231222846  2023.12.31  22:28:46.51  37.4900  43.7095       2.6   \n",
      "1   2  20231231170605  2023.12.31  17:06:05.42  37.4405  43.9263       5.0   \n",
      "2   3  20231231165304  2023.12.31  16:53:04.13  37.4942  43.6955       5.0   \n",
      "3   4  20231231163755  2023.12.31  16:37:55.84  37.4763  43.6965       5.0   \n",
      "4   5  20231230204324  2023.12.30  20:43:24.21  40.2272  29.1705      12.9   \n",
      "\n",
      "    xM   MD   ML   Mw   Ms   Mb Tip  \\\n",
      "0  3.8  0.0  3.8  3.8  0.0  0.0  Ke   \n",
      "1  4.5  0.0  4.5  4.4  0.0  0.0  Ke   \n",
      "2  3.5  0.0  3.5  3.4  0.0  0.0  Ke   \n",
      "3  4.6  0.0  4.6  4.4  0.0  0.0  Ke   \n",
      "4  3.6  0.0  3.6  3.4  0.0  0.0  Ke   \n",
      "\n",
      "                                               Yer  \n",
      "0                 BAYKOY- (HAKKARI) [South 6.8 km]  \n",
      "1  YAZILI-YUKSEKOVA (HAKKARI) [South West  3.6 km]  \n",
      "2                 CIMENLI- (HAKKARI) [East 6.1 km]  \n",
      "3          CIMENLI- (HAKKARI) [South East  6.3 km]  \n",
      "4               GURSU (BURSA) [North West  2.2 km]  \n",
      "    Latitude  Longitude  Temperature\n",
      "0  36.033333  31.366667         18.5\n",
      "1  36.033333  31.400000         18.5\n",
      "2  36.033333  31.466667         18.5\n",
      "3  36.033333  31.500000         18.5\n",
      "4  36.033333  31.533333         18.5\n"
     ]
    }
   ],
   "source": [
    "# Deprem verileri\n",
    "print(deprem_veri.head())\n",
    "\n",
    "# Jeotermal veriler\n",
    "print(jeotermal_veri.head())\n",
    "\n",
    "# Gerekli sütunlar\n",
    "deprem_veri = deprem_veri[['Enlem', 'Boylam', 'Derinlik', 'xM', 'Olus tarihi']]\n",
    "jeotermal_veri = jeotermal_veri[['Latitude', 'Longitude', 'Temperature']]\n"
   ]
  },
  {
   "cell_type": "code",
   "execution_count": 4,
   "id": "8885e150-f67a-4e5f-834b-62b779e0d008",
   "metadata": {},
   "outputs": [],
   "source": [
    "# Türkiye haritası\n",
    "turkiye_harita = folium.Map(location=[39.0, 35.0], zoom_start=6)\n",
    "\n",
    "# RGB'den hex'e dönüştürme fonksiyonu\n",
    "def rgb_to_hex(rgb):\n",
    "    return '#{:02x}{:02x}{:02x}'.format(rgb[0], rgb[1], rgb[2])\n",
    "\n",
    "# Sıcaklığa göre renk kodlarını belirleyin\n",
    "def get_color(temperature):\n",
    "    if temperature >= 85:\n",
    "        return rgb_to_hex([153, 0, 0])  # Koyu kırmızı\n",
    "    elif temperature >= 55:\n",
    "        return rgb_to_hex([255, 0, 0])  # Kırmızı\n",
    "    elif temperature >= 40:\n",
    "        return rgb_to_hex([255, 102, 0])  # Koyu turuncu\n",
    "    elif temperature >= 33:\n",
    "        return rgb_to_hex([255, 204, 102])  # Turuncu\n",
    "    elif temperature >= 29:\n",
    "        return rgb_to_hex([255, 255, 102])  # Açık sarı\n",
    "    elif temperature >= 28:\n",
    "        return rgb_to_hex([204, 255, 255])  # Maviye yakın beyaz\n",
    "    elif temperature >= 27:\n",
    "        return rgb_to_hex([153, 204, 255])  # Çok açık mavi\n",
    "    elif temperature >= 25:\n",
    "        return rgb_to_hex([102, 153, 255])  # Daha açık mavi\n",
    "    elif temperature >= 22:\n",
    "        return rgb_to_hex([51, 102, 255])  # Açık mavi\n",
    "    else:\n",
    "        return rgb_to_hex([0, 0, 255])  # Mavi\n",
    "\n",
    "# Türkiye haritasını oluşturun\n",
    "turkiye_harita = folium.Map(location=[39.0, 35.0], zoom_start=6)\n",
    "\n",
    "# Jeotermal kaynakları haritaya ekleyin\n",
    "for idx, row in jeotermal_veri.iterrows():\n",
    "    color = get_color(row['Temperature'])\n",
    "    folium.CircleMarker(location=(row['Latitude'], row['Longitude']),\n",
    "                        radius=5,\n",
    "                        color=color,\n",
    "                        fill=True,\n",
    "                        fill_color=color,\n",
    "                        popup=f'Sıcaklık: {row[\"Temperature\"]} °C').add_to(turkiye_harita)\n",
    "\n",
    "        \n",
    "# Haritayı kaydet\n",
    "turkiye_harita.save('jeotermal_sicaklik_haritasi.html')"
   ]
  },
  {
   "cell_type": "code",
   "execution_count": 6,
   "id": "a7149397-be61-4421-a07c-c11e095c068e",
   "metadata": {},
   "outputs": [],
   "source": [
    "def get_color_earthquakes(xM):\n",
    "    if xM >= 6.5:\n",
    "        return rgb_to_hex([127, 255, 0])  # Açık yeşil\n",
    "    elif xM >= 4.5:\n",
    "        return rgb_to_hex([0, 191, 0])  # Orta yeşil\n",
    "    else:\n",
    "        return rgb_to_hex([0, 127, 0])  # Koyu yeşil\n",
    "\n",
    "# Depremler\n",
    "for idx, row in deprem_veri.iterrows():\n",
    "    color = get_color_earthquakes(row['xM'])\n",
    "    folium.CircleMarker(location=(row['Enlem'], row['Boylam']),\n",
    "                            radius=3,\n",
    "                            color=color,\n",
    "                            fill=True,\n",
    "                            fill_color=color,\n",
    "                            popup=f'Büyüklük: {row[\"xM\"]}').add_to(turkiye_harita)\n",
    "\n",
    "\n",
    "# Haritayı kaydet\n",
    "turkiye_harita.save('jeotermal_ve_deprem_haritasi.html')"
   ]
  },
  {
   "cell_type": "markdown",
   "id": "f4eefa8d-93f8-4e63-8711-18eac585b3c2",
   "metadata": {},
   "source": [
    "# Korelasyon İnceleme"
   ]
  },
  {
   "cell_type": "code",
   "execution_count": 7,
   "id": "0edab3cc-1d8b-49d4-aa3e-8b076a891e0e",
   "metadata": {},
   "outputs": [
    {
     "name": "stdout",
     "output_type": "stream",
     "text": [
      "Deprem büyüklüğü ile en yakın jeotermal sıcaklık arasındaki korelasyon:\n",
      "                   xM  nearest_temp\n",
      "xM            1.00000       0.01718\n",
      "nearest_temp  0.01718       1.00000\n"
     ]
    }
   ],
   "source": [
    "from scipy.spatial import cKDTree\n",
    "\n",
    "# Deprem ve jeotermal noktaların koordinatlarını alalım\n",
    "deprem_coords = deprem_veri[['Enlem', 'Boylam']].values\n",
    "jeotermal_coords = jeotermal_veri[['Latitude', 'Longitude']].values\n",
    "\n",
    "# KDTree kullanarak en yakın jeotermal kaynakları bulalım\n",
    "tree = cKDTree(jeotermal_coords)\n",
    "distances, indices = tree.query(deprem_coords, k=1)\n",
    "\n",
    "# En yakın jeotermal kaynakların sıcaklıklarını alalım\n",
    "nearest_temps = jeotermal_veri.iloc[indices]['Temperature'].values\n",
    "\n",
    "# Deprem verilerine bu sıcaklıkları ekleyelim\n",
    "deprem_veri['nearest_temp'] = nearest_temps\n",
    "\n",
    "# Korelasyon hesaplayalım\n",
    "correlation = deprem_veri[['xM', 'nearest_temp']].corr()\n",
    "print(\"Deprem büyüklüğü ile en yakın jeotermal sıcaklık arasındaki korelasyon:\")\n",
    "print(correlation)\n"
   ]
  },
  {
   "cell_type": "code",
   "execution_count": null,
   "id": "79f54277-74f9-4a11-8fe7-bf9e7edca3a7",
   "metadata": {},
   "outputs": [],
   "source": []
  }
 ],
 "metadata": {
  "kernelspec": {
   "display_name": "Python 3 (ipykernel)",
   "language": "python",
   "name": "python3"
  },
  "language_info": {
   "codemirror_mode": {
    "name": "ipython",
    "version": 3
   },
   "file_extension": ".py",
   "mimetype": "text/x-python",
   "name": "python",
   "nbconvert_exporter": "python",
   "pygments_lexer": "ipython3",
   "version": "3.11.7"
  }
 },
 "nbformat": 4,
 "nbformat_minor": 5
}
