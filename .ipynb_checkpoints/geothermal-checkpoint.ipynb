{
 "cells": [
  {
   "cell_type": "code",
   "execution_count": 11,
   "id": "e46e442b-0143-4032-a8c2-6db4350f3fa0",
   "metadata": {},
   "outputs": [
    {
     "name": "stdout",
     "output_type": "stream",
     "text": [
      "Veri CSV dosyasına yazıldı.\n"
     ]
    }
   ],
   "source": [
    "import cv2\n",
    "import numpy as np\n",
    "import pandas as pd\n",
    "\n",
    "# Sıcaklık paletindeki renk aralıkları ve ilgili sıcaklık değerleri\n",
    "temperature_ranges = {\n",
    "    (15, 22): [0, 0, 255],        # Mavi\n",
    "    (22, 25): [51, 102, 255],     # Açık mavi\n",
    "    (25, 27): [102, 153, 255],    # Daha açık mavi\n",
    "    (27, 28): [153, 204, 255],    # Çok açık mavi\n",
    "    (28, 29): [204, 255, 255],    # Maviye yakın beyaz\n",
    "    (29, 33): [255, 255, 102],    # Açık sarı\n",
    "    (33, 40): [255, 204, 102],    # Turuncu\n",
    "    (40, 55): [255, 102, 0],      # Koyu turuncu\n",
    "    (55, 85): [255, 0, 0],        # Kırmızı\n",
    "    (85, 150): [153, 0, 0],       # Koyu kırmızı\n",
    "}\n",
    "\n",
    "# Renklerin sıcaklık değerine çevrilmesi için bir fonksiyon\n",
    "def get_temperature_from_color(color):\n",
    "    for temp_range, temp_color in temperature_ranges.items():\n",
    "        if np.allclose(color, temp_color, atol=40):  # Renk toleransı\n",
    "            return np.mean(temp_range)\n",
    "    return None\n",
    "\n",
    "# Harita görüntüsünü yükleme\n",
    "image_path = 'sicaklik.png'  \n",
    "image = cv2.imread(image_path)\n",
    "\n",
    "# Türkiye'nin enlem ve boylam aralıkları\n",
    "lat_min, lat_max = 36, 42\n",
    "lon_min, lon_max = 26, 45\n",
    "\n",
    "# 2 dakika derecelik farklarla enlem ve boylam değerlerini oluşturma\n",
    "lat_values = np.arange(lat_min, lat_max, 2/60)\n",
    "lon_values = np.arange(lon_min, lon_max, 2/60)\n",
    "\n",
    "# Haritanın boyutlarını alma\n",
    "height, width, _ = image.shape\n",
    "\n",
    "# Veri çerçevesi oluşturma\n",
    "data = []\n",
    "\n",
    "for lat in lat_values:\n",
    "    for lon in lon_values:\n",
    "        # Haritadaki piksel konumunu hesaplama\n",
    "        x = int((lon - lon_min) / (lon_max - lon_min) * width)\n",
    "        y = int((lat_max - lat) / (lat_max - lat_min) * height)\n",
    "        \n",
    "        # Piksel koordinatlarının görüntü boyutları içinde olup olmadığını kontrol etme\n",
    "        if 0 <= x < width and 0 <= y < height:\n",
    "            # Piksel rengini alma\n",
    "            color = image[y, x, ::-1]  # BGR'den RGB'ye çevirme\n",
    "            \n",
    "            # Renkten sıcaklık değerini alma\n",
    "            temp = get_temperature_from_color(color)\n",
    "            \n",
    "            if temp is not None:\n",
    "                data.append([lat, lon, temp])\n",
    "\n",
    "# Veri çerçevesini pandas DataFrame'e çevirme\n",
    "df = pd.DataFrame(data, columns=[\"Latitude\", \"Longitude\", \"Temperature\"])\n",
    "\n",
    "# CSV dosyasına yazma\n",
    "df.to_csv(\"temperature_data.csv\", index=False)\n",
    "\n",
    "print(\"Veri CSV dosyasına yazıldı.\")\n"
   ]
  },
  {
   "cell_type": "code",
   "execution_count": null,
   "id": "a7b3e26a-c06a-4dfb-8e18-7c35216347a5",
   "metadata": {},
   "outputs": [],
   "source": []
  }
 ],
 "metadata": {
  "kernelspec": {
   "display_name": "Python 3 (ipykernel)",
   "language": "python",
   "name": "python3"
  },
  "language_info": {
   "codemirror_mode": {
    "name": "ipython",
    "version": 3
   },
   "file_extension": ".py",
   "mimetype": "text/x-python",
   "name": "python",
   "nbconvert_exporter": "python",
   "pygments_lexer": "ipython3",
   "version": "3.11.7"
  }
 },
 "nbformat": 4,
 "nbformat_minor": 5
}
